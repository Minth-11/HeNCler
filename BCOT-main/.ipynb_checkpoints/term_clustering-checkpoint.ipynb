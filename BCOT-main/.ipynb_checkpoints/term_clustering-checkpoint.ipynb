{
 "cells": [
  {
   "cell_type": "markdown",
   "metadata": {
    "id": "ATawChj-KEB5"
   },
   "source": [
    " # EMD"
   ]
  },
  {
   "cell_type": "code",
   "execution_count": 1,
   "metadata": {
    "colab": {
     "base_uri": "https://localhost:8080/"
    },
    "id": "IhXzrKmR_oul",
    "outputId": "4cd0af3e-b12e-4278-90b1-450ec2b27413"
   },
   "outputs": [
    {
     "name": "stdout",
     "output_type": "stream",
     "text": [
      "[Errno 2] No such file or directory: '/content/BCOT'\n",
      "/volume1/scratch/zopdebee/GitHub/HeNCler/BCOT-main\n"
     ]
    },
    {
     "ename": "TypeError",
     "evalue": "loop of ufunc does not support argument 0 of type coo_matrix which has no callable log method",
     "output_type": "error",
     "traceback": [
      "\u001b[31m---------------------------------------------------------------------------\u001b[39m",
      "\u001b[31mAttributeError\u001b[39m                            Traceback (most recent call last)",
      "\u001b[31mAttributeError\u001b[39m: 'coo_matrix' object has no attribute 'log'",
      "\nThe above exception was the direct cause of the following exception:\n",
      "\u001b[31mTypeError\u001b[39m                                 Traceback (most recent call last)",
      "\u001b[36mCell\u001b[39m\u001b[36m \u001b[39m\u001b[32mIn[1]\u001b[39m\u001b[32m, line 42\u001b[39m\n\u001b[32m     40\u001b[39m   \u001b[38;5;28;01mexcept\u001b[39;00m:\n\u001b[32m     41\u001b[39m     metrics[\u001b[33m'\u001b[39m\u001b[33mdb\u001b[39m\u001b[33m'\u001b[39m].append(np.nan)\n\u001b[32m---> \u001b[39m\u001b[32m42\u001b[39m   metrics[\u001b[33m'\u001b[39m\u001b[33mpmi\u001b[39m\u001b[33m'\u001b[39m].append(\u001b[43maverage_pmi_per_cluster\u001b[49m\u001b[43m(\u001b[49m\u001b[43mfeatures\u001b[49m\u001b[43m.\u001b[49m\u001b[43mT\u001b[49m\u001b[43m,\u001b[49m\u001b[43m \u001b[49m\u001b[43mW\u001b[49m\u001b[43m)\u001b[49m)\n\u001b[32m     45\u001b[39m results = {\n\u001b[32m     46\u001b[39m   \u001b[33m'\u001b[39m\u001b[33mmean\u001b[39m\u001b[33m'\u001b[39m: {k:np.mean(v).round(\u001b[32m4\u001b[39m) \u001b[38;5;28;01mfor\u001b[39;00m k,v \u001b[38;5;129;01min\u001b[39;00m metrics.items()}, \n\u001b[32m     47\u001b[39m   \u001b[33m'\u001b[39m\u001b[33mstd\u001b[39m\u001b[33m'\u001b[39m: {k:np.std(v).round(\u001b[32m2\u001b[39m) \u001b[38;5;28;01mfor\u001b[39;00m k,v \u001b[38;5;129;01min\u001b[39;00m metrics.items()}\n\u001b[32m     48\u001b[39m }\n\u001b[32m     51\u001b[39m means = results[\u001b[33m'\u001b[39m\u001b[33mmean\u001b[39m\u001b[33m'\u001b[39m]\n",
      "\u001b[36mFile \u001b[39m\u001b[32m/volume1/scratch/zopdebee/GitHub/HeNCler/BCOT-main/bcot/metrics.py:40\u001b[39m, in \u001b[36maverage_pmi_per_cluster\u001b[39m\u001b[34m(x, labels)\u001b[39m\n\u001b[32m     38\u001b[39m \u001b[38;5;28;01mdef\u001b[39;00m\u001b[38;5;250m \u001b[39m\u001b[34maverage_pmi_per_cluster\u001b[39m(x, labels):\n\u001b[32m     39\u001b[39m   values = \u001b[32m0\u001b[39m\n\u001b[32m---> \u001b[39m\u001b[32m40\u001b[39m   pmi_mat = \u001b[43mpmi\u001b[49m\u001b[43m(\u001b[49m\u001b[43mx\u001b[49m\u001b[43m \u001b[49m\u001b[43m@\u001b[49m\u001b[43m \u001b[49m\u001b[43mx\u001b[49m\u001b[43m.\u001b[49m\u001b[43mT\u001b[49m\u001b[43m,\u001b[49m\u001b[43m \u001b[49m\u001b[43mpositive\u001b[49m\u001b[43m=\u001b[49m\u001b[38;5;28;43;01mFalse\u001b[39;49;00m\u001b[43m)\u001b[49m\n\u001b[32m     41\u001b[39m   \u001b[38;5;28;01mfor\u001b[39;00m c \u001b[38;5;129;01min\u001b[39;00m np.unique(labels):\n\u001b[32m     42\u001b[39m     intra = pmi_mat[labels == c][:, labels == c]\n",
      "\u001b[36mFile \u001b[39m\u001b[32m/volume1/scratch/zopdebee/GitHub/HeNCler/BCOT-main/bcot/metrics.py:31\u001b[39m, in \u001b[36mpmi\u001b[39m\u001b[34m(df, positive)\u001b[39m\n\u001b[32m     29\u001b[39m \u001b[38;5;66;03m# Silence distracting warnings about log(0):\u001b[39;00m\n\u001b[32m     30\u001b[39m \u001b[38;5;28;01mwith\u001b[39;00m np.errstate(divide=\u001b[33m'\u001b[39m\u001b[33mignore\u001b[39m\u001b[33m'\u001b[39m):\n\u001b[32m---> \u001b[39m\u001b[32m31\u001b[39m   df = \u001b[43mnp\u001b[49m\u001b[43m.\u001b[49m\u001b[43mlog\u001b[49m\u001b[43m(\u001b[49m\u001b[43mdf\u001b[49m\u001b[43m)\u001b[49m\n\u001b[32m     32\u001b[39m df[~np.isfinite(df)] = \u001b[32m0.0\u001b[39m  \u001b[38;5;66;03m# log(0) = 0\u001b[39;00m\n\u001b[32m     33\u001b[39m \u001b[38;5;28;01mif\u001b[39;00m positive:\n",
      "\u001b[31mTypeError\u001b[39m: loop of ufunc does not support argument 0 of type coo_matrix which has no callable log method"
     ]
    }
   ],
   "source": [
    "%cd /content/BCOT\n",
    "%load_ext autoreload\n",
    "%autoreload 2\n",
    "\n",
    "import sys\n",
    "\n",
    "import scipy.sparse as sp\n",
    "from bcot.utils import read_dataset\n",
    "from bcot.bcot import BCOT\n",
    "from sklearn.metrics import davies_bouldin_score\n",
    "from bcot.metrics import average_pmi_per_cluster\n",
    "import numpy as np\n",
    "from time import time \n",
    "\n",
    "n_runs = 2\n",
    "plot_block_structure = True\n",
    "\n",
    "for dataset, n_clusters in zip(['wiki', 'pubmed', 'acm', 'dblp', 'ohscal', 'ng20'], [23, 3, 18, 2, 100, 140]):\n",
    "  features, labels, _ = read_dataset(dataset, sparse=True)\n",
    "  n, d = features.shape\n",
    "  k = n_clusters\n",
    "\n",
    "  for scaler in [1, n, d, k]:    \n",
    "\n",
    "    metrics = {}\n",
    "    metrics['db'] = []\n",
    "    metrics['pmi'] = []\n",
    "    \n",
    "\n",
    "    for _ in range(n_runs):\n",
    "      M = -features * scaler\n",
    "      \n",
    "      Z_p, W_p = BCOT(M, n_clusters, algorithm='emd', reg=1, n_iter=100)\n",
    "\n",
    "      Z = Z_p.argmax(-1)\n",
    "      W = W_p.argmax(-1)\n",
    "\n",
    "      try:\n",
    "        metrics['db'].append(davies_bouldin_score(features.toarray(), Z))\n",
    "      except:\n",
    "        metrics['db'].append(np.nan)\n",
    "      metrics['pmi'].append(average_pmi_per_cluster(features.T, W))\n",
    "      \n",
    "      \n",
    "    results = {\n",
    "      'mean': {k:np.mean(v).round(4) for k,v in metrics.items()}, \n",
    "      'std': {k:np.std(v).round(2) for k,v in metrics.items()}\n",
    "    }\n",
    "    \n",
    "    \n",
    "    means = results['mean']\n",
    "    std = results['std']\n",
    "    print(f'### Results on {dataset}')\n",
    "    print(f'L(X)=-{scaler}X')\n",
    "    print(f\"pmi:{means['pmi']}±{std['pmi']}\") \n",
    "    print(f\"db-index: {means['db']}±{std['db']}\")\n",
    "    print()"
   ]
  },
  {
   "cell_type": "markdown",
   "metadata": {
    "id": "nfChZ51cKF_-"
   },
   "source": [
    "# Sinkhorn "
   ]
  },
  {
   "cell_type": "code",
   "execution_count": null,
   "metadata": {
    "id": "i4R0xYk4vJEx"
   },
   "outputs": [],
   "source": [
    "%cd /content/BCOT\n",
    "%load_ext autoreload\n",
    "%autoreload 2\n",
    "\n",
    "import sys\n",
    "\n",
    "import scipy.sparse as sp\n",
    "from bcot.utils import read_dataset\n",
    "from bcot.bcot import BCOT\n",
    "from sklearn.metrics import davies_bouldin_score\n",
    "from bcot.metrics import average_pmi_per_cluster\n",
    "import numpy as np\n",
    "from time import time \n",
    "\n",
    "n_runs = 2\n",
    "plot_block_structure = True\n",
    "\n",
    "for dataset, n_clusters in zip(['wiki', 'pubmed', 'acm', 'dblp', 'ohscal', 'ng20'], [23, 3, 18, 2, 100, 140]):\n",
    "  features, labels, _ = read_dataset(dataset, sparse=True)\n",
    "  n, d = features.shape\n",
    "  k = n_clusters\n",
    "\n",
    "  for scaler in [1, n, d, k]:    \n",
    "    for reg in [.0001, .001, .01, .1, 1, 1]:\n",
    "      metrics = {}\n",
    "      metrics['db'] = []\n",
    "      metrics['pmi'] = []\n",
    "      \n",
    "\n",
    "      for _ in range(n_runs):\n",
    "        M = -features * scaler\n",
    "        \n",
    "        Z_p, W_p = BCOT(M, n_clusters, algorithm='sinkhorn', reg=reg, n_iter=100)\n",
    "\n",
    "        Z = Z_p.argmax(-1)\n",
    "        W = W_p.argmax(-1)\n",
    "\n",
    "        try:\n",
    "          metrics['db'].append(davies_bouldin_score(features.toarray(), Z))\n",
    "        except:\n",
    "          metrics['db'].append(np.nan)\n",
    "        metrics['pmi'].append(average_pmi_per_cluster(features.T, W))\n",
    "        \n",
    "        \n",
    "      results = {\n",
    "        'mean': {k:np.mean(v).round(4) for k,v in metrics.items()}, \n",
    "        'std': {k:np.std(v).round(2) for k,v in metrics.items()}\n",
    "      }\n",
    "      \n",
    "      \n",
    "      means = results['mean']\n",
    "      std = results['std']\n",
    "      print(f'### Results on {dataset}')\n",
    "      print(f'L(X)=-{scaler}X')\n",
    "      print(f\"pmi:{means['pmi']}±{std['pmi']}\") \n",
    "      print(f\"db-index: {means['db']}±{std['db']}\")\n",
    "      print()"
   ]
  }
 ],
 "metadata": {
  "colab": {
   "collapsed_sections": [],
   "name": "term_clustering.ipynb",
   "provenance": []
  },
  "kernelspec": {
   "display_name": "Python 3 (ipykernel)",
   "language": "python",
   "name": "python3"
  },
  "language_info": {
   "codemirror_mode": {
    "name": "ipython",
    "version": 3
   },
   "file_extension": ".py",
   "mimetype": "text/x-python",
   "name": "python",
   "nbconvert_exporter": "python",
   "pygments_lexer": "ipython3",
   "version": "3.12.9"
  }
 },
 "nbformat": 4,
 "nbformat_minor": 4
}
